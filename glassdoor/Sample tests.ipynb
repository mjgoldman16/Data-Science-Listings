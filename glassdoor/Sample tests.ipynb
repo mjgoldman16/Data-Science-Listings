{
 "cells": [
  {
   "cell_type": "code",
   "execution_count": 1,
   "metadata": {
    "collapsed": true
   },
   "outputs": [],
   "source": [
    "import pandas as pd\n",
    "import numpy as np\n",
    "import re\n",
    "\n",
    "pd.set_option('display.max_columns',500)\n",
    "pd.set_option('display.max_rows',1500)"
   ]
  },
  {
   "cell_type": "code",
   "execution_count": 2,
   "metadata": {
    "collapsed": true
   },
   "outputs": [],
   "source": [
    "df = pd.read_csv(\"testing_reviews.csv\")"
   ]
  },
  {
   "cell_type": "code",
   "execution_count": 3,
   "metadata": {},
   "outputs": [
    {
     "name": "stdout",
     "output_type": "stream",
     "text": [
      "company_cons     312\n",
      "company_info     311\n",
      "company_name       0\n",
      "company_pros     311\n",
      "description        4\n",
      "job_location     311\n",
      "job_title          0\n",
      "outlook          311\n",
      "post_date          0\n",
      "rating             0\n",
      "recommend        311\n",
      "salary_est      4020\n",
      "salary_high     4020\n",
      "salary_low      4020\n",
      "dtype: int64\n",
      "265\n",
      "2646\n"
     ]
    },
    {
     "data": {
      "text/plain": [
       "Index(['company_cons', 'company_info', 'company_name', 'company_pros',\n",
       "       'description', 'job_location', 'job_title', 'outlook', 'post_date',\n",
       "       'rating', 'recommend', 'salary_est', 'salary_high', 'salary_low'],\n",
       "      dtype='object')"
      ]
     },
     "execution_count": 3,
     "metadata": {},
     "output_type": "execute_result"
    }
   ],
   "source": [
    "print(df.isnull().sum())\n",
    "print(len(pd.unique(df[\"job_location\"])))\n",
    "print(len(pd.unique(df[\"company_name\"]))) #2.6 for the larger df\n",
    "# print(len(pd.unique(df[\"Industry\"])))\n",
    "# print(len(pd.unique(df[\"Type\"])))\n",
    "# print(len(pd.unique(df[\"Size\"])))\n",
    "df.columns"
   ]
  },
  {
   "cell_type": "code",
   "execution_count": null,
   "metadata": {
    "collapsed": true
   },
   "outputs": [],
   "source": []
  },
  {
   "cell_type": "code",
   "execution_count": 4,
   "metadata": {
    "collapsed": true
   },
   "outputs": [],
   "source": [
    "df = pd.read_csv(\"reviews.csv\")\n",
    "# df"
   ]
  },
  {
   "cell_type": "code",
   "execution_count": 5,
   "metadata": {
    "scrolled": false
   },
   "outputs": [
    {
     "name": "stdout",
     "output_type": "stream",
     "text": [
      "0\n",
      "0\n"
     ]
    }
   ],
   "source": [
    "from ast import literal_eval\n",
    "# print(100*df[\"salary_est\"].isnull().sum()/len(df[\"salary_est\"]),\"%\")\n",
    "\n",
    "df = df[(df[\"company_name\"]!=\"*** ERROR - NO COMPANY LISTED. SEE DESCRIPTION FOR POSSIBLE HINTS *** [XX]\") & (df[\"company_info\"].isnull()!=True)]\n",
    "print((df[\"company_name\"]==\"*** ERROR - NO COMPANY LISTED. SEE DESCRIPTION FOR POSSIBLE HINTS *** [XX]\").sum())\n",
    "print(df[\"company_info\"].isnull().sum())\n",
    "# print(df[\"company)info\"].contains(\">\").sum())\n",
    "\n"
   ]
  },
  {
   "cell_type": "code",
   "execution_count": 6,
   "metadata": {
    "collapsed": true
   },
   "outputs": [],
   "source": [
    "df[\"company_info\"] = df[\"company_info\"].apply(literal_eval)\n",
    "# df[\"company_info\"]\n",
    "\n",
    "df[\"company_info\"] = pd.Series([dict(i) for i in df[\"company_info\"]])\n",
    "# df[\"company_info\"]\n",
    "# df[\"company_info\"].items"
   ]
  },
  {
   "cell_type": "code",
   "execution_count": 7,
   "metadata": {
    "collapsed": true,
    "scrolled": true
   },
   "outputs": [],
   "source": [
    "df = pd.concat([df.drop('company_info', axis = 1), df[\"company_info\"].apply(pd.Series)], axis = 1)\n",
    "#C:\\Users\\mjgol\\Anaconda3\\lib\\site-packages\\pandas\\core\\indexes\\api.py:77: RuntimeWarning: '<' \n",
    "# not supported between instances of 'int' and 'str', sort order is undefined for incomparable objects\n",
    "#   result = result.union(other)"
   ]
  },
  {
   "cell_type": "code",
   "execution_count": 8,
   "metadata": {
    "collapsed": true
   },
   "outputs": [],
   "source": [
    "# df"
   ]
  },
  {
   "cell_type": "code",
   "execution_count": 9,
   "metadata": {},
   "outputs": [
    {
     "name": "stdout",
     "output_type": "stream",
     "text": [
      "216\n",
      "1709\n",
      "38\n",
      "463\n",
      "8\n"
     ]
    },
    {
     "data": {
      "text/plain": [
       "Index(['company_cons', 'company_name', 'company_pros', 'description',\n",
       "       'job_location', 'job_title', 'outlook', 'post_date', 'rating',\n",
       "       'recommend', 'salary_est', 'salary_high', 'salary_low', 'Competitors',\n",
       "       'Founded', 'Headquarters', 'Industry', 'Now known as ', 'Part of ',\n",
       "       'Revenue', 'Size', 'Type'],\n",
       "      dtype='object')"
      ]
     },
     "execution_count": 9,
     "metadata": {},
     "output_type": "execute_result"
    }
   ],
   "source": [
    "df.isnull().sum()\n",
    "print(len(pd.unique(df[\"job_location\"])))\n",
    "print(len(pd.unique(df[\"company_name\"]))) #well that isn't a lot \n",
    "print(len(pd.unique(df[\"Industry\"])))\n",
    "print(len(pd.unique(df[\"Type\"])))\n",
    "print(len(pd.unique(df[\"Size\"])))\n",
    "\n",
    "df.columns"
   ]
  },
  {
   "cell_type": "code",
   "execution_count": 10,
   "metadata": {
    "collapsed": true
   },
   "outputs": [],
   "source": [
    "for i in np.where(df[\"Part of \"]==\"\"):\n",
    "    df.loc[i, \"Founded\"] = df.loc[i,\"Type\"]\n",
    "    df.loc[i,\"Type\"] = df.loc[i,\"Industry\"]\n",
    "    df.loc[i,\"Industry\"] = df.loc[i,\"Revenue\"]\n",
    "    df.loc[i,\"Revenue\"] = df.loc[i,\"Competitors\"]\n",
    "    df.loc[i, \"Part of \"] = np.nan\n",
    "    df.loc[i,\"Competitors\"] = np.nan\n",
    "#     type to founded\n",
    "#     revenue to industry\n",
    "#     industry to type\n",
    "#     competitors to revenue\n",
    "    "
   ]
  },
  {
   "cell_type": "code",
   "execution_count": 11,
   "metadata": {
    "collapsed": true
   },
   "outputs": [],
   "source": [
    "# df"
   ]
  },
  {
   "cell_type": "code",
   "execution_count": 12,
   "metadata": {},
   "outputs": [
    {
     "data": {
      "text/plain": [
       "company_cons        1\n",
       "company_name        0\n",
       "company_pros        0\n",
       "description         0\n",
       "job_location        0\n",
       "job_title           0\n",
       "outlook             0\n",
       "post_date           0\n",
       "rating              0\n",
       "recommend           0\n",
       "salary_est          0\n",
       "salary_high         0\n",
       "salary_low          0\n",
       "Competitors      2127\n",
       "Founded           100\n",
       "Headquarters       10\n",
       "Industry           60\n",
       "Now known as     8473\n",
       "Part of          8503\n",
       "Revenue           125\n",
       "Size                0\n",
       "Type                0\n",
       "dtype: int64"
      ]
     },
     "execution_count": 12,
     "metadata": {},
     "output_type": "execute_result"
    }
   ],
   "source": [
    "df.isnull().sum()"
   ]
  },
  {
   "cell_type": "code",
   "execution_count": 13,
   "metadata": {
    "collapsed": true
   },
   "outputs": [],
   "source": [
    "# df.drop([\"Now known as \", \"Part of \", \"post_date\"], axis = 1)"
   ]
  },
  {
   "cell_type": "code",
   "execution_count": 14,
   "metadata": {
    "collapsed": true
   },
   "outputs": [],
   "source": [
    "# distinct_df = distinct\n",
    "#Greentech media data analyst - \tBrooklyn, 061 for HQ"
   ]
  },
  {
   "cell_type": "code",
   "execution_count": null,
   "metadata": {
    "collapsed": true
   },
   "outputs": [],
   "source": []
  },
  {
   "cell_type": "code",
   "execution_count": 15,
   "metadata": {},
   "outputs": [
    {
     "data": {
      "text/plain": [
       "8503"
      ]
     },
     "execution_count": 15,
     "metadata": {},
     "output_type": "execute_result"
    }
   ],
   "source": [
    "len(df[\"Type\"])"
   ]
  },
  {
   "cell_type": "code",
   "execution_count": 17,
   "metadata": {
    "collapsed": true
   },
   "outputs": [],
   "source": [
    "distinct_df = df.drop_duplicates([\"company_name\", \"description\", \"job_location\", \"job_title\"])\n",
    "distinct_df = distinct_df.drop([\"company_cons\", \"company_pros\", \"outlook\", \"recommend\", \"Headquarters\"], axis = 1)"
   ]
  },
  {
   "cell_type": "code",
   "execution_count": 18,
   "metadata": {},
   "outputs": [
    {
     "name": "stdout",
     "output_type": "stream",
     "text": [
      "1712\n"
     ]
    },
    {
     "data": {
      "text/plain": [
       "1664"
      ]
     },
     "execution_count": 18,
     "metadata": {},
     "output_type": "execute_result"
    }
   ],
   "source": [
    "distinct_df[\"description\"][5]\n",
    "print(len(distinct_df[\"job_title\"]))\n",
    "# df[df.C.str.contains(\"XYZ\") == False]\n",
    "distinct_df = distinct_df[distinct_df[\"job_title\"].str.contains(\"[Ii]ntern(?!a)\")==False] \n",
    "len(distinct_df)\n",
    "#to prevent internal, or international, etc.\n",
    "#we also don't want internships"
   ]
  },
  {
   "cell_type": "code",
   "execution_count": 184,
   "metadata": {},
   "outputs": [
    {
     "name": "stdout",
     "output_type": "stream",
     "text": [
      "<class 'numpy.ndarray'>\n",
      "837\n",
      "35\n",
      "693\n",
      "565\n"
     ]
    }
   ],
   "source": [
    "test = distinct_df[\"description\"]\n",
    "test.reset_index(drop=True)\n",
    "test.values\n",
    "print(type(test.values))\n",
    "# [re.search(\"(.{9})years?\",i) for i in test.values]\n",
    "# [re.findall(\"(.{20}) (YEARS?) (.{20})\",i,re.IGNORECASE) for i in test.values]\n",
    "# [re.findall(\"(.{20})(B\\.?A\\.?(?!\\w)|B\\.?S\\.?+)(.{20})\",i, re.IGNORECASE) for i in test.values]\n",
    "\n",
    "##WILL NEED SANITY CHECK ON THIS\n",
    "##EDUCATION LISTINGS\n",
    "bachelors = [re.findall(\"(?<![A-Z])B\\.?S\\.?c?(?![A-Z])|(?<![A-Z])B\\.?A\\.?(?![A-Z])|BACHELOR|UNDERGRAD.{0,40} DEGREE|ASSOCIATE'?S?.{20}DEGREE\",i, re.IGNORECASE) for i in test.values]\n",
    "bachelors\n",
    "print(len([x for x in bachelors if x]))\n",
    "masters = [re.findall(\"(MASTER'?S?.{0,40}DEGREE|GRADUATE.{0,40}DEGREE|(?<![A-Z])M\\.?S\\.?(?![A-Z]|\\sDYNAMICS|,\\sDSC)(?!-?~?\\s?OFFICE|\\sEXCEL|\\sWORD|\\sACCESS|-?\\s?SQL)|ADVANCED?.{0,40}DEGREE)\",i,re.IGNORECASE) for i in test.values]\n",
    "masters\n",
    "mba = [re.findall(\"([\\s|-|/]MBA[\\s|-|/]|[\\s|-|/]MBUS[\\s|-|/]|[\\s|-|/]MBS[\\s|-|/]|MASTERS? OF BUSINESS)\",i,re.IGNORECASE) for i in test.values]\n",
    "mba\n",
    "print(len([x for x in mba if x]))\n",
    "print(len([x for x in masters if x]))\n",
    "phd = [re.findall(\"(PH\\.?D|ADVANCED?.{0,40}DEGREE|DOCTORA[TE|L]|POST-?\\s?GRADUATE)\",i,re.IGNORECASE) for i in test.values]\n",
    "phd\n",
    "print(len([x for x in phd if x]))\n",
    "\n",
    "#WHAT THE OTHER PERSON DID\n",
    "#  edu_dict = Counter({'Bachelor':doc_frequency['bachelor'],'Master':doc_frequency['master'],\n",
    "#                           'PhD': doc_frequency['phd'],'MBA':doc_frequency['mba']})\n"
   ]
  },
  {
   "cell_type": "code",
   "execution_count": 217,
   "metadata": {},
   "outputs": [
    {
     "name": "stdout",
     "output_type": "stream",
     "text": [
      "714\n",
      "524\n",
      "719\n",
      "402\n",
      "177\n"
     ]
    }
   ],
   "source": [
    "python = [re.findall(\"[\\s,-.]PYTHON[\\s,-.]\",i,re.IGNORECASE) for i in test.values]\n",
    "python\n",
    "print(len([x for x in python if x]))\n",
    "R = [re.findall(\"[\\s,-]R[\\s,-\\.]\",i,re.IGNORECASE) for i in test.values]\n",
    "print(len([x for x in R if x]))\n",
    "SQL =[re.findall(\"[\\s,-]SQL[\\s,-.]\",i,re.IGNORECASE) for i in test.values]\n",
    "print(len([x for x in SQL if x]))\n",
    "java = [re.findall(\"JAVA\",i,re.IGNORECASE) for i in test.values]\n",
    "print(len([x for x in java if x]))\n",
    "C = [re.findall(\"[\\s,-.]C[\\s,-\\.|++]\",i,re.IGNORECASE) for i in test.values]\n",
    "print(len([x for x in C if x]))"
   ]
  },
  {
   "cell_type": "code",
   "execution_count": null,
   "metadata": {
    "collapsed": true
   },
   "outputs": [],
   "source": []
  },
  {
   "cell_type": "code",
   "execution_count": null,
   "metadata": {
    "collapsed": true
   },
   "outputs": [],
   "source": [
    "print(\"HOW TO GET CITY INFORMATION\")"
   ]
  },
  {
   "cell_type": "code",
   "execution_count": null,
   "metadata": {
    "collapsed": true
   },
   "outputs": [],
   "source": [
    "cities = [\"boston\",\"new-york\",\"washington\",\"san-jose\",\"los-angeles\",\"chicago\",\"austin\",\"huntsville\",\"seattle\",\"denver\",\"san-francisco\",\"miami\",\"tampa\",\"palo-alto\",\"houston\",\"atlanta\"]\n",
    "city_ids = [1154532,1132348,1138213,1147436,1146821,1128808,1139761,1127653,1150505,1148170,1147401,1154170,1154429,1147434,1140171,1155583 ]\n"
   ]
  },
  {
   "cell_type": "code",
   "execution_count": null,
   "metadata": {
    "collapsed": true
   },
   "outputs": [],
   "source": [
    "    for city_id in city_ids:\n",
    "        for i in range(1,31):\n",
    "            pass\n",
    "#             print(\"https://www.glassdoor.com/Job/new-york-data-scientist-jobs-SRCH_IL.0,8_IC\"+\n",
    "#                   str(city_id)+\n",
    "#                   \"_KO9,23_IP\"+\n",
    "#                   str(i)+\n",
    "#                   \".htm\")"
   ]
  },
  {
   "cell_type": "code",
   "execution_count": null,
   "metadata": {
    "collapsed": true
   },
   "outputs": [],
   "source": [
    "x =[(\"https://www.glassdoor.com/Job/new-york-data-scientist-jobs-SRCH_IL.0,8_IC\" + \n",
    "    str(city_id) +\n",
    "    \"_KO9,23_IP\" +\n",
    "    str(num) + \n",
    "    \".htm\") for city_id in city_ids for num in range(1,31)]\n",
    "# x\n",
    "#[x for y in collection for x in y] # [A for B in C for D in E]\n",
    "#for y in collection:     #      for B in C:\n",
    "#    for x in y:          #          for D in E: (in this case: for A in B)\n",
    "        # receive x      #              # receive A\n"
   ]
  },
  {
   "cell_type": "code",
   "execution_count": null,
   "metadata": {
    "collapsed": true
   },
   "outputs": [],
   "source": [
    "# [str(len(city)) for city in cities]\n",
    "# [str(len(city)+14) for city in cities]"
   ]
  },
  {
   "cell_type": "code",
   "execution_count": null,
   "metadata": {
    "collapsed": true
   },
   "outputs": [],
   "source": [
    "cities = list(zip(cities,city_ids))\n",
    "cities #this has the right line up\n",
    "start_url = [(\"https://www.glassdoor.com/Job/\"+\n",
    "  city[0]+\n",
    "  \"-data-scientist-jobs-SRCH_IL.0,\"+\n",
    "  str(len(city[0]))+\n",
    "  \"_IC\"+\n",
    "  str(city[1])+\n",
    "  \"_KO\"+\n",
    "  str(len(city[0])+1)+\n",
    "  \",\"+\n",
    "  str(len(city[0])+15)+\n",
    "  \"_IP\"+\n",
    "  str(i) +\n",
    "  \".htm\") for city in cities for i in range(1,31)]\n",
    "start_url\n",
    "\n",
    "cities[1][0]\n",
    "\n",
    "#PROPER SAN JOSE: https://www.glassdoor.com/Job/san-jose-data-scientist-jobs-SRCH_IL.0,8_IC1147436_KO9,23_IP2.htm"
   ]
  },
  {
   "cell_type": "code",
   "execution_count": null,
   "metadata": {
    "collapsed": true
   },
   "outputs": [],
   "source": [
    "x = [url + \"_KO9,23_IP\" for url in x]\n",
    "# x"
   ]
  },
  {
   "cell_type": "code",
   "execution_count": null,
   "metadata": {
    "collapsed": true
   },
   "outputs": [],
   "source": [
    "i = (range(1,31))\n",
    "# [(url + str(num) + \".htm\") for url in x for num in i]"
   ]
  },
  {
   "cell_type": "code",
   "execution_count": null,
   "metadata": {
    "collapsed": true
   },
   "outputs": [],
   "source": [
    " seq_x = [1, 2, 3, 4]\n",
    "seq_y = 'abc'\n",
    "[(x,y) for x in seq_x for y in seq_y]\n",
    "[(1, 'a'), \n",
    " (1, 'b'), \n",
    " (1, 'c'), \n",
    " (2, 'a'), \n",
    " (2, 'b'), \n",
    " (2, 'c'), \n",
    " (3, 'a'), \n",
    " (3, 'b'), \n",
    " (3, 'c'), \n",
    " (4, 'a'), \n",
    " (4, 'b'), \n",
    " (4, 'c')]"
   ]
  },
  {
   "cell_type": "code",
   "execution_count": null,
   "metadata": {
    "collapsed": true
   },
   "outputs": [],
   "source": [
    "[\"https://www.glassdoor.com/Job/new-york-data-scientist-jobs-SRCH_IL.0,8_IC\"+str(city_id)+\"_KO9,23_IP\"+str(i)+\".htm\" for city_id for i in range(1,31) for city_id in city_ids]\n"
   ]
  },
  {
   "cell_type": "code",
   "execution_count": null,
   "metadata": {
    "collapsed": true
   },
   "outputs": [],
   "source": [
    "if not all(item.values()):\n",
    "\traise DropItem(\"Missing values!\")"
   ]
  }
 ],
 "metadata": {
  "kernelspec": {
   "display_name": "Python 3",
   "language": "python",
   "name": "python3"
  },
  "language_info": {
   "codemirror_mode": {
    "name": "ipython",
    "version": 3
   },
   "file_extension": ".py",
   "mimetype": "text/x-python",
   "name": "python",
   "nbconvert_exporter": "python",
   "pygments_lexer": "ipython3",
   "version": "3.6.3"
  }
 },
 "nbformat": 4,
 "nbformat_minor": 2
}
